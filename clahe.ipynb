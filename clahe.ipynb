{
 "cells": [
  {
   "cell_type": "code",
   "execution_count": 9,
   "metadata": {},
   "outputs": [],
   "source": [
    "from skimage.io import imread, imsave\n",
    "from skimage.filters import gaussian, sobel\n",
    "import numpy as np\n",
    "import matplotlib.pyplot as plt\n",
    "from skimage import data\n",
    "import cv2\n",
    "from skimage.color import yuv2rgb, rgb2yuv, gray2rgb, rgb2gray, rgb2lab, lab2rgb\n",
    "from skimage.util import img_as_ubyte\n",
    "import ipywidgets as widgets\n",
    "import os \n",
    "\n",
    "INVESTIGATION_PATH = 'clahe'\n",
    "os.makedirs(INVESTIGATION_PATH, exist_ok=True)\n",
    "get_path = lambda file: os.path.join(INVESTIGATION_PATH, file)\n",
    "\n",
    "\n",
    "\n",
    "image = data.chelsea()\n",
    "image_yuv = rgb2yuv(image)"
   ]
  },
  {
   "cell_type": "code",
   "execution_count": 10,
   "metadata": {},
   "outputs": [],
   "source": [
    "gray = cv2.cvtColor(image, cv2.COLOR_RGB2GRAY)\n",
    "clahe = cv2.createCLAHE(clipLimit=2.0, tileGridSize=(8, 8))\n",
    "equalized = clahe.apply(gray)"
   ]
  },
  {
   "cell_type": "code",
   "execution_count": 11,
   "metadata": {},
   "outputs": [],
   "source": [
    "imsave(get_path(\"gray.png\"), gray)\n",
    "imsave(get_path(\"equalized_gray.png\"), equalized)"
   ]
  },
  {
   "cell_type": "code",
   "execution_count": 12,
   "metadata": {},
   "outputs": [
    {
     "data": {
      "application/vnd.jupyter.widget-view+json": {
       "model_id": "9cf1fe7691ee4966b9556a70866a1a43",
       "version_major": 2,
       "version_minor": 0
      },
      "text/plain": [
       "interactive(children=(FloatSlider(value=2.0, description='cliplimit', max=10.0), IntSlider(value=8, descriptio…"
      ]
     },
     "metadata": {},
     "output_type": "display_data"
    }
   ],
   "source": [
    "@widgets.interact_manual(cliplimit=widgets.FloatSlider(2, min=0, max=10, step=0.1), \n",
    "                         title_size=widgets.IntSlider(8, 2, 16),\n",
    "                         save=False)\n",
    "def investigate_clahe(cliplimit: float=2., title_size: int=8, save: bool=False):\n",
    "    yuv_image = rgb2yuv(image)\n",
    "    y_channel = (yuv_image[..., 0] * 255).astype(np.uint8)\n",
    "    lab_image = rgb2lab(image)\n",
    "    l_channel = (lab_image[..., 0] * 255).astype(np.uint8)\n",
    "    clahe = cv2.createCLAHE(clipLimit=cliplimit, tileGridSize=(title_size, title_size))\n",
    "    equalized = clahe.apply(y_channel)\n",
    "    equalized_l_channel = clahe.apply(l_channel)\n",
    "    lab_image[..., 0] = equalized_l_channel / 255\n",
    "    new_rgb_lab = lab2rgb(lab_image)\n",
    "    yuv_image[..., 0] = equalized  / 255\n",
    "    new_rgb = yuv2rgb(yuv_image)\n",
    "\n",
    "    if save:\n",
    "        imsave(get_path(\"new_equalized_rgb_lab.png\"), new_rgb_lab)\n",
    "        imsave(get_path(\"new_equalized_rgb.png\"), new_rgb)\n",
    "\n",
    "    difference = np.abs(new_rgb - image).mean()\n",
    "    print(\"Difference: \", difference)\n",
    "    fig, axes = plt.subplots(nrows=3, ncols=2, figsize=(15, 10))\n",
    "    axes[0, 0].imshow(image)\n",
    "    axes[0, 0].set_title(\"Initial image\")\n",
    "    axes[1, 0].hist(image.flatten())\n",
    "    axes[2, 0].imshow(equalized_l_channel, cmap='gray')\n",
    "    axes[2, 0].set_title(\"Equalized gray\")\n",
    "\n",
    "    axes[0, 1].imshow(new_rgb)\n",
    "    axes[0, 1].set_title(\"Equalized image\")\n",
    "    axes[1, 1].hist((new_rgb * 255).astype(np.uint8).flatten())\n",
    "    axes[2, 1].imshow(new_rgb_lab)\n",
    "    axes[2, 1].set_title(\"Equalized gray -> RGB\")\n",
    "\n",
    "\n",
    "\n",
    "    plt.show()"
   ]
  },
  {
   "cell_type": "code",
   "execution_count": null,
   "metadata": {},
   "outputs": [],
   "source": []
  }
 ],
 "metadata": {
  "kernelspec": {
   "display_name": "Python 3",
   "language": "python",
   "name": "python3"
  },
  "language_info": {
   "codemirror_mode": {
    "name": "ipython",
    "version": 3
   },
   "file_extension": ".py",
   "mimetype": "text/x-python",
   "name": "python",
   "nbconvert_exporter": "python",
   "pygments_lexer": "ipython3",
   "version": "3.10.8"
  },
  "orig_nbformat": 4
 },
 "nbformat": 4,
 "nbformat_minor": 2
}
